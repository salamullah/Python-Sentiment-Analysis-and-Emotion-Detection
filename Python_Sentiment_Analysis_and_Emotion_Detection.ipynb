{
  "nbformat": 4,
  "nbformat_minor": 0,
  "metadata": {
    "colab": {
      "name": "Python-Sentiment-Analysis-and-Emotion-Detection.ipynb",
      "provenance": [],
      "authorship_tag": "ABX9TyNGZTWB0ZmvGklwAaznq8z8",
      "include_colab_link": true
    },
    "kernelspec": {
      "name": "python3",
      "display_name": "Python 3"
    },
    "language_info": {
      "name": "python"
    }
  },
  "cells": [
    {
      "cell_type": "markdown",
      "metadata": {
        "id": "view-in-github",
        "colab_type": "text"
      },
      "source": [
        "<a href=\"https://colab.research.google.com/github/salamullah/Python-Sentiment-Analysis-and-Emotion-Detection/blob/main/Python_Sentiment_Analysis_and_Emotion_Detection.ipynb\" target=\"_parent\"><img src=\"https://colab.research.google.com/assets/colab-badge.svg\" alt=\"Open In Colab\"/></a>"
      ]
    },
    {
      "cell_type": "markdown",
      "source": [
        "## Open File and preprocess text"
      ],
      "metadata": {
        "id": "lPMWV1tMPmzz"
      }
    },
    {
      "cell_type": "code",
      "execution_count": 5,
      "metadata": {
        "colab": {
          "base_uri": "https://localhost:8080/"
        },
        "id": "Ui6nuO24_Pmv",
        "outputId": "8331e80e-cc82-41fe-b2fc-b0d2da064fcc"
      },
      "outputs": [
        {
          "output_type": "stream",
          "name": "stdout",
          "text": [
            "i like python. but i do not like java.  \n"
          ]
        }
      ],
      "source": [
        "file= open('dataset.txt', encoding='utf-8')\n",
        "text= file.read()\n",
        "lower_case= text.lower()\n",
        "print(lower_case)"
      ]
    },
    {
      "cell_type": "code",
      "source": [
        ""
      ],
      "metadata": {
        "id": "ZYtdRNjrO2Gp"
      },
      "execution_count": null,
      "outputs": []
    }
  ]
}