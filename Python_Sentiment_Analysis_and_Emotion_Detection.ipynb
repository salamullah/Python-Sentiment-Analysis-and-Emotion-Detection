{
  "nbformat": 4,
  "nbformat_minor": 0,
  "metadata": {
    "colab": {
      "name": "Python-Sentiment-Analysis-and-Emotion-Detection.ipynb",
      "provenance": [],
      "authorship_tag": "ABX9TyPutd73W9GZI5cmxre5sK1b",
      "include_colab_link": true
    },
    "kernelspec": {
      "name": "python3",
      "display_name": "Python 3"
    },
    "language_info": {
      "name": "python"
    }
  },
  "cells": [
    {
      "cell_type": "markdown",
      "metadata": {
        "id": "view-in-github",
        "colab_type": "text"
      },
      "source": [
        "<a href=\"https://colab.research.google.com/github/salamullah/Python-Sentiment-Analysis-and-Emotion-Detection/blob/main/Python_Sentiment_Analysis_and_Emotion_Detection.ipynb\" target=\"_parent\"><img src=\"https://colab.research.google.com/assets/colab-badge.svg\" alt=\"Open In Colab\"/></a>"
      ]
    },
    {
      "cell_type": "code",
      "execution_count": null,
      "metadata": {
        "id": "Ui6nuO24_Pmv"
      },
      "outputs": [],
      "source": [
        ""
      ]
    }
  ]
}