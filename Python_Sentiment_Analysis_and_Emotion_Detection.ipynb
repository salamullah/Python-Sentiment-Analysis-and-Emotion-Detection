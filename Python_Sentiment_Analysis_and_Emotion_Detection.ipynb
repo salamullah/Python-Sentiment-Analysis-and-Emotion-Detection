{
  "nbformat": 4,
  "nbformat_minor": 0,
  "metadata": {
    "colab": {
      "name": "Python-Sentiment-Analysis-and-Emotion-Detection.ipynb",
      "provenance": [],
      "authorship_tag": "ABX9TyPo7i14IbbCQatDEGOMJTij",
      "include_colab_link": true
    },
    "kernelspec": {
      "name": "python3",
      "display_name": "Python 3"
    },
    "language_info": {
      "name": "python"
    }
  },
  "cells": [
    {
      "cell_type": "markdown",
      "metadata": {
        "id": "view-in-github",
        "colab_type": "text"
      },
      "source": [
        "<a href=\"https://colab.research.google.com/github/salamullah/Python-Sentiment-Analysis-and-Emotion-Detection/blob/main/Python_Sentiment_Analysis_and_Emotion_Detection.ipynb\" target=\"_parent\"><img src=\"https://colab.research.google.com/assets/colab-badge.svg\" alt=\"Open In Colab\"/></a>"
      ]
    },
    {
      "cell_type": "markdown",
      "source": [
        "## Import libraries\n",
        "\n"
      ],
      "metadata": {
        "id": "a9wOFpWwQepY"
      }
    },
    {
      "cell_type": "code",
      "source": [
        "import string"
      ],
      "metadata": {
        "id": "ZYtdRNjrO2Gp"
      },
      "execution_count": 6,
      "outputs": []
    },
    {
      "cell_type": "markdown",
      "source": [
        "## Open File and preprocess text"
      ],
      "metadata": {
        "id": "lPMWV1tMPmzz"
      }
    },
    {
      "cell_type": "code",
      "execution_count": 13,
      "metadata": {
        "colab": {
          "base_uri": "https://localhost:8080/"
        },
        "id": "Ui6nuO24_Pmv",
        "outputId": "8a2c0891-9b4a-44cd-9fcf-96c4ee914c56"
      },
      "outputs": [
        {
          "output_type": "stream",
          "name": "stdout",
          "text": [
            "i @like !python. but i do not like ?java.  \n"
          ]
        }
      ],
      "source": [
        "file= open('dataset.txt', encoding='utf-8')\n",
        "text= file.read()\n",
        "lower_case= text.lower()\n",
        "print(lower_case)"
      ]
    },
    {
      "cell_type": "code",
      "source": [
        "print(string.punctuation)"
      ],
      "metadata": {
        "colab": {
          "base_uri": "https://localhost:8080/"
        },
        "id": "bsmutfbQQsnE",
        "outputId": "d038aaf4-5f48-4aff-8826-fee47c749857"
      },
      "execution_count": 7,
      "outputs": [
        {
          "output_type": "stream",
          "name": "stdout",
          "text": [
            "!\"#$%&'()*+,-./:;<=>?@[\\]^_`{|}~\n"
          ]
        }
      ]
    },
    {
      "cell_type": "markdown",
      "source": [
        "## User Translate in String Module to remove punctuation from text"
      ],
      "metadata": {
        "id": "DSNGUdaeRAdE"
      }
    },
    {
      "cell_type": "code",
      "source": [
        "cleaned_text= lower_case.translate(str.maketrans('', '', string.punctuation))\n",
        "print(cleaned_text)"
      ],
      "metadata": {
        "colab": {
          "base_uri": "https://localhost:8080/"
        },
        "id": "IWC0HUVwQzE_",
        "outputId": "9573fc6f-def2-4a70-d4c2-b109a821b3cf"
      },
      "execution_count": 11,
      "outputs": [
        {
          "output_type": "stream",
          "name": "stdout",
          "text": [
            "i like python but i do not like java  \n"
          ]
        }
      ]
    },
    {
      "cell_type": "code",
      "source": [
        ""
      ],
      "metadata": {
        "id": "nmjAYPTVSeA9"
      },
      "execution_count": null,
      "outputs": []
    }
  ]
}