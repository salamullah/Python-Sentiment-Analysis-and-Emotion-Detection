{
  "nbformat": 4,
  "nbformat_minor": 0,
  "metadata": {
    "colab": {
      "name": "Python-Sentiment-Analysis-and-Emotion-Detection.ipynb",
      "provenance": [],
      "authorship_tag": "ABX9TyNQAeEsQkYWiiRHfkQavyJk",
      "include_colab_link": true
    },
    "kernelspec": {
      "name": "python3",
      "display_name": "Python 3"
    },
    "language_info": {
      "name": "python"
    }
  },
  "cells": [
    {
      "cell_type": "markdown",
      "metadata": {
        "id": "view-in-github",
        "colab_type": "text"
      },
      "source": [
        "<a href=\"https://colab.research.google.com/github/salamullah/Python-Sentiment-Analysis-and-Emotion-Detection/blob/main/Python_Sentiment_Analysis_and_Emotion_Detection.ipynb\" target=\"_parent\"><img src=\"https://colab.research.google.com/assets/colab-badge.svg\" alt=\"Open In Colab\"/></a>"
      ]
    },
    {
      "cell_type": "markdown",
      "source": [
        "## Import libraries\n",
        "\n"
      ],
      "metadata": {
        "id": "a9wOFpWwQepY"
      }
    },
    {
      "cell_type": "code",
      "source": [
        "import string"
      ],
      "metadata": {
        "id": "ZYtdRNjrO2Gp"
      },
      "execution_count": 6,
      "outputs": []
    },
    {
      "cell_type": "markdown",
      "source": [
        "## Open File and preprocess text"
      ],
      "metadata": {
        "id": "lPMWV1tMPmzz"
      }
    },
    {
      "cell_type": "code",
      "execution_count": 5,
      "metadata": {
        "colab": {
          "base_uri": "https://localhost:8080/"
        },
        "id": "Ui6nuO24_Pmv",
        "outputId": "8331e80e-cc82-41fe-b2fc-b0d2da064fcc"
      },
      "outputs": [
        {
          "output_type": "stream",
          "name": "stdout",
          "text": [
            "i like python. but i do not like java.  \n"
          ]
        }
      ],
      "source": [
        "file= open('dataset.txt', encoding='utf-8')\n",
        "text= file.read()\n",
        "lower_case= text.lower()\n",
        "print(lower_case)"
      ]
    },
    {
      "cell_type": "code",
      "source": [
        "print(string.punctuation)"
      ],
      "metadata": {
        "colab": {
          "base_uri": "https://localhost:8080/"
        },
        "id": "bsmutfbQQsnE",
        "outputId": "d038aaf4-5f48-4aff-8826-fee47c749857"
      },
      "execution_count": 7,
      "outputs": [
        {
          "output_type": "stream",
          "name": "stdout",
          "text": [
            "!\"#$%&'()*+,-./:;<=>?@[\\]^_`{|}~\n"
          ]
        }
      ]
    },
    {
      "cell_type": "markdown",
      "source": [
        "## User Translate in String Module to remove punctuation from text"
      ],
      "metadata": {
        "id": "DSNGUdaeRAdE"
      }
    },
    {
      "cell_type": "code",
      "source": [
        "cleaned_text= lower_case.translate(string.punctuation)\n",
        "print(cleaned_text)"
      ],
      "metadata": {
        "colab": {
          "base_uri": "https://localhost:8080/"
        },
        "id": "IWC0HUVwQzE_",
        "outputId": "efb6625c-65ff-4de9-8135-018532c2207c"
      },
      "execution_count": 9,
      "outputs": [
        {
          "output_type": "stream",
          "name": "stdout",
          "text": [
            "i like python. but i do not like java.  \n"
          ]
        }
      ]
    },
    {
      "cell_type": "code",
      "source": [
        ""
      ],
      "metadata": {
        "id": "nmjAYPTVSeA9"
      },
      "execution_count": null,
      "outputs": []
    }
  ]
}